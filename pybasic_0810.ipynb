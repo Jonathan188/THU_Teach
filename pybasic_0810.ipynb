{
 "cells": [
  {
   "cell_type": "markdown",
   "metadata": {},
   "source": [
    "# 上禮拜 List 跟 For 用好了嗎?"
   ]
  },
  {
   "cell_type": "code",
   "execution_count": 78,
   "metadata": {},
   "outputs": [
    {
     "name": "stdout",
     "output_type": "stream",
     "text": [
      "[['G0', 58], ['G1', 59], ['G2', 67], ['G3', 68], ['G4', 51], ['G5', 59], ['G6', 51], ['G7', 59], ['G8', 64], ['G9', 54]]\n"
     ]
    }
   ],
   "source": [
    "# 使用 random package\n",
    "import random\n",
    "\n",
    "# 定義一個 students list\n",
    "students_list = []\n",
    "\n",
    "# 產生50隨機成績\n",
    "for i in range(10):\n",
    "    students_list.append([\"G{}\".format(i),\n",
    "                          random.randint(50,70)])\n",
    "    \n",
    "print(students_list)"
   ]
  },
  {
   "cell_type": "code",
   "execution_count": 79,
   "metadata": {},
   "outputs": [
    {
     "name": "stdout",
     "output_type": "stream",
     "text": [
      "G0 58\n",
      "G1 59\n",
      "G4 51\n",
      "G5 59\n",
      "G6 51\n",
      "G7 59\n",
      "G9 54\n"
     ]
    }
   ],
   "source": [
    "# 小於 60 分的，秀出來\n",
    "for student in students_list:\n",
    "    if student[1] < 60:\n",
    "        print(student[0], student[1])\n",
    "\n"
   ]
  },
  {
   "cell_type": "markdown",
   "metadata": {},
   "source": [
    "# 簡單吧? 那我們來學更難的\n"
   ]
  },
  {
   "cell_type": "markdown",
   "metadata": {},
   "source": [
    "## Learning List\n",
    "- [v] IF condition \n",
    "- [v] For loop\n",
    "- [v] List\n",
    "- [ ] [Dict](#Dict---Dictionary])\n",
    "- [ ] [Tuple](#Tuple---禿婆？他婆？)\n",
    "- [ ] [Set](#Set---集合)\n",
    "- [ ] [function](#function)\n",
    "- [ ] [class](#class)\n",
    "- [ ] [io](#IO)\n",
    "- [ ] [Matplotlib](#Matplotlib)\n",
    "- [ ] [Numpy](#Numpy)"
   ]
  },
  {
   "cell_type": "markdown",
   "metadata": {},
   "source": [
    "### Dict - Dictionary \n",
    "\n",
    "Key word ： **Key-Value Store**、雜湊表(hash table)\n",
    "\n",
    "一樣來輸入成績吧"
   ]
  },
  {
   "cell_type": "code",
   "execution_count": 80,
   "metadata": {},
   "outputs": [
    {
     "name": "stdout",
     "output_type": "stream",
     "text": [
      "{'G0': 52, 'G1': 56, 'G2': 50, 'G3': 67, 'G4': 51, 'G5': 53, 'G6': 70, 'G7': 68, 'G8': 65, 'G9': 61}\n"
     ]
    }
   ],
   "source": [
    "students_dict = {} # 是大括弧！\n",
    "\n",
    "for i in range(10):\n",
    "    students_dict[\"G\"+str(i)] = random.randint(50,70)\n",
    "\n",
    "print(students_dict)"
   ]
  },
  {
   "cell_type": "code",
   "execution_count": 81,
   "metadata": {},
   "outputs": [
    {
     "name": "stdout",
     "output_type": "stream",
     "text": [
      "G0\n",
      "G1\n",
      "G2\n",
      "G3\n",
      "G4\n",
      "G5\n",
      "G6\n",
      "G7\n",
      "G8\n",
      "G9\n"
     ]
    }
   ],
   "source": [
    "for student in students_dict:\n",
    "    print(student) # 有發現哪裡不一樣嗎?"
   ]
  },
  {
   "cell_type": "code",
   "execution_count": 82,
   "metadata": {},
   "outputs": [
    {
     "name": "stdout",
     "output_type": "stream",
     "text": [
      "['G0', 58]\n",
      "['G1', 59]\n",
      "['G2', 67]\n",
      "['G3', 68]\n",
      "['G4', 51]\n",
      "['G5', 59]\n",
      "['G6', 51]\n",
      "['G7', 59]\n",
      "['G8', 64]\n",
      "['G9', 54]\n"
     ]
    }
   ],
   "source": [
    "for student in students_list:\n",
    "    print(student)"
   ]
  },
  {
   "cell_type": "markdown",
   "metadata": {},
   "source": [
    "Dict 儲存的東西都是 **Key** , 其所對應的 **Value** 需要透過 function 調用(或直接調用 key)"
   ]
  },
  {
   "cell_type": "code",
   "execution_count": 83,
   "metadata": {},
   "outputs": [
    {
     "name": "stdout",
     "output_type": "stream",
     "text": [
      "['G0', 58]\n",
      "52\n",
      "52\n"
     ]
    }
   ],
   "source": [
    "# for list\n",
    "print(students_list[0])\n",
    "\n",
    "# for dict\n",
    "print(students_dict[\"G0\"])\n",
    "\n",
    "# for dict function\n",
    "print(students_dict.get(\"G0\"))"
   ]
  },
  {
   "cell_type": "markdown",
   "metadata": {},
   "source": [
    "所以，知道怎麼使用 Dict 取得全班小於 60 分的成績嗎??"
   ]
  },
  {
   "cell_type": "code",
   "execution_count": 84,
   "metadata": {},
   "outputs": [],
   "source": [
    "# Play Ground (5 min)"
   ]
  },
  {
   "cell_type": "markdown",
   "metadata": {},
   "source": [
    "Dict Vs List\n",
    "\n",
    "一言以蔽之的話，\n",
    "\n",
    "Dict 適合需要**搜尋**的任務：請問某某某是幾分、~~直接幫某某某的成績加到60分~~\n",
    "\n",
    "List適合需要**排序**的任務：全班依照成績排名、~~成績低於60分的人都當掉~~"
   ]
  },
  {
   "cell_type": "code",
   "execution_count": 85,
   "metadata": {},
   "outputs": [
    {
     "name": "stdout",
     "output_type": "stream",
     "text": [
      "25487\n"
     ]
    }
   ],
   "source": [
    "# 這行是建構 25487 個名子(使用網路上的資源)\n",
    "import urllib.request\n",
    "word_url = \"http://svnweb.freebsd.org/csrg/share/dict/words?view=co&content-type=text/plain\"\n",
    "response = urllib.request.urlopen(word_url)\n",
    "long_txt = response.read().decode()\n",
    "words = long_txt.splitlines()\n",
    "print(len(words))"
   ]
  },
  {
   "cell_type": "code",
   "execution_count": 86,
   "metadata": {},
   "outputs": [],
   "source": [
    "# Build 25487 個學生的成績\n",
    "# List\n",
    "students_list = []\n",
    "for student in words:\n",
    "    students_list.append([student, random.randint(40,100)])\n",
    "\n",
    "students_dict = {}\n",
    "for student in words:\n",
    "    students_dict[student] = random.randint(40,100)"
   ]
  },
  {
   "cell_type": "code",
   "execution_count": 87,
   "metadata": {},
   "outputs": [],
   "source": [
    "# Play Ground (10 min)\n",
    "\n",
    "# Q1: 尋找 Estella 的成績 (List 跟 Dict 的方法)\n",
    "# Q2: 成績最差的最後5人是誰 (List的方法)\n",
    "# Q3: 若使用 Dict，如何做 Q2 呢? [Advance]"
   ]
  },
  {
   "cell_type": "code",
   "execution_count": 88,
   "metadata": {},
   "outputs": [
    {
     "name": "stdout",
     "output_type": "stream",
     "text": [
      "List Estella 65\n",
      "List spent  0.0 to find Estella\n",
      "=========================\n",
      "Dict Estella 62\n",
      "Dict spent  0.0 to find Estella\n"
     ]
    }
   ],
   "source": [
    "import time\n",
    "# Q1\n",
    "\n",
    "# List\n",
    "start = time.time()\n",
    "for student in students_list:\n",
    "    if student[0] == \"Estella\":\n",
    "        print(\"List\", student[0], student[1])\n",
    "print(\"List spent \", time.time() - start , \"to find Estella\")\n",
    "print(\"=========================\")\n",
    "# Dict\n",
    "start = time.time()\n",
    "print(\"Dict\", \"Estella\",  students_dict[\"Estella\"])\n",
    "print(\"Dict spent \", time.time() - start , \"to find Estella\")\n"
   ]
  },
  {
   "cell_type": "code",
   "execution_count": 89,
   "metadata": {},
   "outputs": [
    {
     "name": "stdout",
     "output_type": "stream",
     "text": [
      "Origin [[\"z's\", 84], ['zucchini', 99], ['Zulu', 98], ['Zurich', 62], ['zygote', 48]]\n",
      "After sort [['wind', 40], ['withdrawn', 40], ['woodlot', 40], ['yuck', 40], ['zest', 40]]\n"
     ]
    }
   ],
   "source": [
    "# Q2 - will be a long time .....\n",
    "print(\"Origin\",students_list[-5:])\n",
    "\n",
    "for i in range(len(students_list) - 1):\n",
    "    for j in range(len(students_list) - 1 - i):\n",
    "        if students_list[j+1][1] > students_list[j][1]:\n",
    "            tmp = students_list[j]\n",
    "            students_list[j] = students_list[j+1]\n",
    "            students_list[j+1] = tmp\n",
    "\n",
    "print(\"After sort\",students_list[-5:])\n",
    "        \n",
    "        "
   ]
  },
  {
   "cell_type": "markdown",
   "metadata": {},
   "source": [
    "Q3 要怎麼做? 思路是，如果是把分數當作 Key 而 Value 是一個名子的 List 呢？"
   ]
  },
  {
   "cell_type": "markdown",
   "metadata": {},
   "source": [
    "### Tuple - 禿婆？他婆？\n",
    "\n",
    "Very very very very like List"
   ]
  },
  {
   "cell_type": "code",
   "execution_count": 93,
   "metadata": {},
   "outputs": [],
   "source": [
    "lol2018_tuple = () # 是小括號"
   ]
  },
  {
   "cell_type": "markdown",
   "metadata": {},
   "source": [
    "Next? 如何增加數值到裡面?\n",
    "\n",
    "答案：不能...\n",
    "\n",
    "Tuple 一旦定義了，就不能修改"
   ]
  },
  {
   "cell_type": "code",
   "execution_count": 94,
   "metadata": {},
   "outputs": [
    {
     "name": "stdout",
     "output_type": "stream",
     "text": [
      "(('Flash Wolf', '淘汰'), ('KT rolster', '淘汰'), ('RNG', '淘汰'))\n",
      "Flash Wolf 淘汰\n"
     ]
    },
    {
     "ename": "TypeError",
     "evalue": "'tuple' object does not support item assignment",
     "output_type": "error",
     "traceback": [
      "\u001b[1;31m---------------------------------------------------------------------------\u001b[0m",
      "\u001b[1;31mTypeError\u001b[0m                                 Traceback (most recent call last)",
      "\u001b[1;32m<ipython-input-94-f835e2d9b6c9>\u001b[0m in \u001b[0;36m<module>\u001b[1;34m()\u001b[0m\n\u001b[0;32m      2\u001b[0m \u001b[0mprint\u001b[0m\u001b[1;33m(\u001b[0m\u001b[0mlol2018_tuple\u001b[0m\u001b[1;33m)\u001b[0m\u001b[1;33m\u001b[0m\u001b[0m\n\u001b[0;32m      3\u001b[0m \u001b[0mprint\u001b[0m\u001b[1;33m(\u001b[0m\u001b[0mlol2018_tuple\u001b[0m\u001b[1;33m[\u001b[0m\u001b[1;36m0\u001b[0m\u001b[1;33m]\u001b[0m\u001b[1;33m[\u001b[0m\u001b[1;36m0\u001b[0m\u001b[1;33m]\u001b[0m\u001b[1;33m,\u001b[0m \u001b[0mlol2018_tuple\u001b[0m\u001b[1;33m[\u001b[0m\u001b[1;36m0\u001b[0m\u001b[1;33m]\u001b[0m\u001b[1;33m[\u001b[0m\u001b[1;36m1\u001b[0m\u001b[1;33m]\u001b[0m\u001b[1;33m)\u001b[0m\u001b[1;33m\u001b[0m\u001b[0m\n\u001b[1;32m----> 4\u001b[1;33m \u001b[0mlol2018_tuple\u001b[0m\u001b[1;33m[\u001b[0m\u001b[1;36m0\u001b[0m\u001b[1;33m]\u001b[0m\u001b[1;33m[\u001b[0m\u001b[1;36m1\u001b[0m\u001b[1;33m]\u001b[0m \u001b[1;33m=\u001b[0m \u001b[1;34m\"晉級\"\u001b[0m \u001b[1;31m# QAQ....\u001b[0m\u001b[1;33m\u001b[0m\u001b[0m\n\u001b[0m",
      "\u001b[1;31mTypeError\u001b[0m: 'tuple' object does not support item assignment"
     ]
    }
   ],
   "source": [
    "lol2018_tuple = ((\"Flash Wolf\", \"淘汰\"), (\"KT rolster\", \"淘汰\"), (\"RNG\", \"淘汰\"))\n",
    "print(lol2018_tuple)\n",
    "print(lol2018_tuple[0][0], lol2018_tuple[0][1])\n",
    "lol2018_tuple[0][1] = \"晉級\" # QAQ...."
   ]
  },
  {
   "cell_type": "code",
   "execution_count": 97,
   "metadata": {},
   "outputs": [
    {
     "name": "stdout",
     "output_type": "stream",
     "text": [
      "('Flash Wolf', '淘汰')\n",
      "('KT rolster', '淘汰')\n",
      "('RNG', '淘汰')\n"
     ]
    }
   ],
   "source": [
    "# 多變數取值方式\n",
    "a, b, c = lol2018_tuple\n",
    "\n",
    "print(a)\n",
    "print(b)\n",
    "print(c)"
   ]
  },
  {
   "cell_type": "markdown",
   "metadata": {},
   "source": [
    "整體而言，與 List 很像，可是無法修改值，但記憶體所占用的空間比 List 小。\n",
    "\n",
    "適合無須/不能變更的值 (雖然比較常用的還是 List 跟 Dict)\n"
   ]
  },
  {
   "cell_type": "markdown",
   "metadata": {},
   "source": [
    "### Set - 集合\n",
    "\n",
    "與 Dict 有點像，但是是沒有 Value 的集合"
   ]
  },
  {
   "cell_type": "code",
   "execution_count": 111,
   "metadata": {},
   "outputs": [
    {
     "name": "stdout",
     "output_type": "stream",
     "text": [
      "{'的', '火', '花', '滅', '我', '放', '盛', '熄', '要', '中', '心', '快'}\n"
     ]
    }
   ],
   "source": [
    "word_set = set(\"我要我盛放心中快要熄滅的花火\")\n",
    "print(word_set)"
   ]
  },
  {
   "cell_type": "markdown",
   "metadata": {},
   "source": [
    "無序、不重複"
   ]
  },
  {
   "cell_type": "code",
   "execution_count": 112,
   "metadata": {},
   "outputs": [
    {
     "name": "stdout",
     "output_type": "stream",
     "text": [
      "{'的', '深', '火', '花', '滅', '我', '放', '盛', '熄', '要', '中', '心', '快'}\n"
     ]
    }
   ],
   "source": [
    "# 使用 add 來新增元素\n",
    "word_set.add(\"我\")\n",
    "word_set.add(\"深\")\n",
    "print(word_set)"
   ]
  },
  {
   "cell_type": "code",
   "execution_count": 113,
   "metadata": {},
   "outputs": [
    {
     "name": "stdout",
     "output_type": "stream",
     "text": [
      "{'的', '救', '勇', '逝', '活', '命', '去', '我', '要', '中', '英', '快'}\n"
     ]
    }
   ],
   "source": [
    "word_set2 = set(\"我要我救活命中快要逝去的英勇\")\n",
    "print(word_set2)"
   ]
  },
  {
   "cell_type": "code",
   "execution_count": 119,
   "metadata": {},
   "outputs": [
    {
     "name": "stdout",
     "output_type": "stream",
     "text": [
      "交集： {'的', '我', '要', '中', '快'}\n",
      "聯集： {'的', '深', '火', '勇', '花', '活', '中', '英', '心', '快', '去', '救', '逝', '滅', '命', '我', '放', '盛', '熄', '要'}\n",
      "差集： {'深', '火', '花', '滅', '放', '盛', '熄', '心'}\n",
      "互斥： {'深', '火', '救', '勇', '逝', '花', '活', '命', '去', '滅', '放', '盛', '熄', '英', '心'}\n"
     ]
    }
   ],
   "source": [
    "# 交集\n",
    "print(\"交集：\", word_set & word_set2)\n",
    "\n",
    "# 聯集\n",
    "print(\"聯集：\", word_set | word_set2)\n",
    "\n",
    "# 差集：屬於前者，但不屬於後者\n",
    "print(\"差集：\", word_set - word_set2)\n",
    "\n",
    "# 互斥：只屬於前者或後者\n",
    "print(\"互斥：\", word_set ^ word_set2)"
   ]
  },
  {
   "cell_type": "markdown",
   "metadata": {},
   "source": [
    "### Homework Time\n",
    "\n",
    "網路上隨意找一篇新聞，把內容存到一個變數後\n",
    "1. 統計內文使用幾個字\n",
    "2. 每個字的使用頻率\n",
    "3. 出現最多的字是甚麼\n",
    "4. 標點符號的使用量\n",
    "\n",
    "Hint:\n",
    "在 Pyhton 中，String 是可以被**隨意**切割的"
   ]
  },
  {
   "cell_type": "code",
   "execution_count": 121,
   "metadata": {},
   "outputs": [
    {
     "name": "stdout",
     "output_type": "stream",
     "text": [
      "LOL世界大賽／RNG今年第六冠夢碎！ 奪冠之路竟殺出程咬金G2\n"
     ]
    }
   ],
   "source": [
    "test_string = \"LOL世界大賽／RNG今年第六冠夢碎！ 奪冠之路竟殺出程咬金G2\"\n",
    "print(test_string)"
   ]
  },
  {
   "cell_type": "code",
   "execution_count": 129,
   "metadata": {},
   "outputs": [
    {
     "name": "stdout",
     "output_type": "stream",
     "text": [
      "L\n",
      "O\n",
      "L\n",
      "LOL\n",
      "世界\n",
      "程咬金\n"
     ]
    }
   ],
   "source": [
    "print(test_string[0])\n",
    "print(test_string[1])\n",
    "print(test_string[2])\n",
    "print(test_string[0:3])\n",
    "print(test_string[3:5])\n",
    "print(test_string[-5:-2])"
   ]
  },
  {
   "cell_type": "markdown",
   "metadata": {},
   "source": [
    "# 脫離了基本變數，我們來看 function and class\n",
    "\n",
    "## function"
   ]
  },
  {
   "cell_type": "code",
   "execution_count": 131,
   "metadata": {},
   "outputs": [
    {
     "name": "stdout",
     "output_type": "stream",
     "text": [
      "You shoot  a fireball !!\n"
     ]
    }
   ],
   "source": [
    "# 基本定義\n",
    "def fireball():\n",
    "    print(\"You shoot  a fireball !!\")\n",
    "    \n",
    "fireball()"
   ]
  },
  {
   "cell_type": "code",
   "execution_count": 135,
   "metadata": {},
   "outputs": [
    {
     "name": "stdout",
     "output_type": "stream",
     "text": [
      "You freeze Peka !!\n"
     ]
    }
   ],
   "source": [
    "# 傳入引數\n",
    "def freeze(who):\n",
    "    print(\"You freeze \" + str(who) + \" !!\")\n",
    "    \n",
    "freeze(\"Peka\")"
   ]
  },
  {
   "cell_type": "code",
   "execution_count": 147,
   "metadata": {},
   "outputs": [
    {
     "name": "stdout",
     "output_type": "stream",
     "text": [
      "Adam\n",
      "Adam\n",
      "Adam\n",
      "Amy\n"
     ]
    }
   ],
   "source": [
    "# Life cycle\n",
    "\n",
    "wizzard = \"Adam\"\n",
    "def change_name():\n",
    "    wizzard = \"Amy\"\n",
    "\n",
    "def real_change_name(who):\n",
    "    who = \"Amy\"\n",
    "\n",
    "def real_real_change_name():\n",
    "    return \"Amy\"\n",
    "\n",
    "print(wizzard)\n",
    "change_name()\n",
    "print(wizzard)\n",
    "real_change_name(wizzard)\n",
    "print(wizzard)\n",
    "wizzard = real_real_change_name()\n",
    "print(wizzard)\n",
    "\n",
    "# int, float, string is call by value"
   ]
  },
  {
   "cell_type": "code",
   "execution_count": 153,
   "metadata": {},
   "outputs": [
    {
     "name": "stdout",
     "output_type": "stream",
     "text": [
      "['Adam', 'Amy', 'Tom']\n",
      "['Golden', 'Amy', 'Tom']\n",
      "['Golden_Jr', 'Amy', 'Tom']\n",
      "In function ['Golden_Jr', 'Amy_Jr', 'Tom']\n",
      "Out of function ['Golden_Jr', 'Amy', 'Tom']\n"
     ]
    }
   ],
   "source": [
    "wizzards = [\"Adam\", \"Amy\", \"Tom\"]\n",
    "def change_name():\n",
    "    wizzards[0] = \"Golden\"  # Danger !!!!!\n",
    "\n",
    "def real_change_name(who):\n",
    "    who[0] = \"Golden_Jr\" # Notice !!!!!\n",
    "    \n",
    "def real_real_change_name(who):\n",
    "    who[1] = \"Amy_Jr\"\n",
    "    print(\"In function\", who)\n",
    "\n",
    "print(wizzards)\n",
    "change_name()\n",
    "print(wizzards)\n",
    "real_change_name(wizzards)\n",
    "print(wizzards)\n",
    "\n",
    "# If you want pass array but want to isolation the original one\n",
    "real_real_change_name(wizzards.copy())\n",
    "print(\"Out of function\", wizzards)\n",
    "\n",
    "# List  is call by reference"
   ]
  },
  {
   "cell_type": "code",
   "execution_count": 154,
   "metadata": {},
   "outputs": [],
   "source": [
    "# Play Ground (10 min)\n",
    "\n",
    "# Q1: How about Dict ?"
   ]
  },
  {
   "cell_type": "markdown",
   "metadata": {},
   "source": [
    "## class"
   ]
  },
  {
   "cell_type": "code",
   "execution_count": 175,
   "metadata": {},
   "outputs": [
    {
     "name": "stdout",
     "output_type": "stream",
     "text": [
      "My name is Albus Dumbledore , and my type is <class '__main__.Wizzard'>\n",
      "Albus Dumbledore shoot the fire ball !!!\n",
      "Albus Dumbledore freeze Lord Voldemort !!\n"
     ]
    },
    {
     "ename": "TypeError",
     "evalue": "legilimency() takes 1 positional argument but 2 were given",
     "output_type": "error",
     "traceback": [
      "\u001b[1;31m---------------------------------------------------------------------------\u001b[0m",
      "\u001b[1;31mTypeError\u001b[0m                                 Traceback (most recent call last)",
      "\u001b[1;32m<ipython-input-175-04347cda4cee>\u001b[0m in \u001b[0;36m<module>\u001b[1;34m()\u001b[0m\n\u001b[0;32m     19\u001b[0m \u001b[1;33m\u001b[0m\u001b[0m\n\u001b[0;32m     20\u001b[0m \u001b[1;31m# Notice!\u001b[0m\u001b[1;33m\u001b[0m\u001b[1;33m\u001b[0m\u001b[0m\n\u001b[1;32m---> 21\u001b[1;33m \u001b[0mwizzard\u001b[0m\u001b[1;33m.\u001b[0m\u001b[0mlegilimency\u001b[0m\u001b[1;33m(\u001b[0m\u001b[1;34m\"Harry Poter\"\u001b[0m\u001b[1;33m)\u001b[0m\u001b[1;33m\u001b[0m\u001b[0m\n\u001b[0m",
      "\u001b[1;31mTypeError\u001b[0m: legilimency() takes 1 positional argument but 2 were given"
     ]
    }
   ],
   "source": [
    "class Wizzard:\n",
    "    def __init__(self, name):\n",
    "        self.name = name\n",
    "    \n",
    "    def fireball(self):\n",
    "        print(self.name + \" shoot the fire ball !!!\")\n",
    "    \n",
    "    def freeze(self, who):\n",
    "        print(self.name + \" freeze \" + str(who) + \" !!\")\n",
    "    \n",
    "    def legilimency(who):\n",
    "        print(\"I can see \"+ who + \" inside ...\")\n",
    "        \n",
    "\n",
    "wizzard = Wizzard(\"Albus Dumbledore\")\n",
    "print(\"My name is \" + wizzard.name, \", and my type is\", type(wizzard))\n",
    "wizzard.fireball()\n",
    "wizzard.freeze(\"Lord Voldemort\")\n",
    "\n",
    "# Notice!\n",
    "wizzard.legilimency(\"Harry Poter\")"
   ]
  },
  {
   "cell_type": "code",
   "execution_count": 177,
   "metadata": {},
   "outputs": [
    {
     "name": "stdout",
     "output_type": "stream",
     "text": [
      "I can see Harry Poter inside ...\n",
      "<class 'type'>\n"
     ]
    }
   ],
   "source": [
    "Wizzard.legilimency(\"Harry Poter\")\n",
    "print(type(Wizzard))"
   ]
  },
  {
   "cell_type": "markdown",
   "metadata": {},
   "source": [
    "Python 會做兩件事：\n",
    "\n",
    "1. 查看物件 wizzard 的類別(Wizzard)\n",
    "2. 將物件 wizzard 當作第一個參數，傳給 Car 類別的 freeze() function\n",
    "\n",
    "所以 class 中沒有 self 的 fucntion 是不能接收物件 car 中的 name 的"
   ]
  },
  {
   "cell_type": "markdown",
   "metadata": {},
   "source": [
    "### Homework Time2\n",
    "\n",
    "使用 class 創建一個文章計數器，裡面的function(method) 有：\n",
    "\n",
    "1. 建構子，參數為一個 String\n",
    "2. 上個作業的功能\n",
    "3. 能做的多漂亮就多漂亮，你知道的"
   ]
  },
  {
   "cell_type": "markdown",
   "metadata": {},
   "source": [
    "# 脫離基礎，進入應用：IO、Matplotlib、Numpy\n",
    "\n",
    "## IO\n",
    "在 Python，讀寫一個檔案的方式十分簡單 (我認為是最簡單的...)"
   ]
  },
  {
   "cell_type": "code",
   "execution_count": 181,
   "metadata": {},
   "outputs": [
    {
     "name": "stdout",
     "output_type": "stream",
     "text": [
      "['First Line in new File\\n']\n",
      "['First Line in new File\\n', 'Second Line in File\\n']\n"
     ]
    }
   ],
   "source": [
    "# Tradition way to write file\n",
    "fp = open(\"hello.txt\", \"w\")\n",
    "fp.writelines(\"First Line in new File\\n\")\n",
    "fp.close()\n",
    "\n",
    "# Tradition way to read file\n",
    "fp = open(\"hello.txt\", \"r\") # Notice here\n",
    "line = fp.readlines()\n",
    "print(line)\n",
    "fp.close()\n",
    "\n",
    "# Tradition way to append file\n",
    "fp = open(\"hello.txt\", \"a\")\n",
    "fp.writelines(\"Second Line in File\\n\")\n",
    "fp.close()\n",
    "\n",
    "fp = open(\"hello.txt\", \"r\") # Notice here\n",
    "line = fp.readlines() # read in is list\n",
    "print(line)\n",
    "fp.close()"
   ]
  },
  {
   "cell_type": "code",
   "execution_count": 186,
   "metadata": {},
   "outputs": [
    {
     "name": "stdout",
     "output_type": "stream",
     "text": [
      "['First Line in new File\\n']\n",
      "First Line in new File\n",
      "Second Line in File\n"
     ]
    }
   ],
   "source": [
    "# another way to write file\n",
    "with open(\"hello.txt\", \"w\") as fp:\n",
    "    fp.writelines(\"First Line in new File\\n\")\n",
    "\n",
    "# another way to read file\n",
    "with open(\"hello.txt\", \"r\") as fp:\n",
    "    line = fp.readlines()\n",
    "print(line)\n",
    "\n",
    "# another way to append file\n",
    "with open(\"hello.txt\", \"a\") as fp:\n",
    "    fp.writelines(\"Second Line in File\\n\")\n",
    "\n",
    "with open(\"hello.txt\", \"r\") as fp:\n",
    "    for line in fp.readlines():\n",
    "        print(line[:-1]) # why ~?\n"
   ]
  },
  {
   "cell_type": "code",
   "execution_count": 213,
   "metadata": {},
   "outputs": [],
   "source": [
    "# Playground\n",
    "# Q1. 把網路上的文章，複製到外面的一個 txt，嘗試讀取他，並顯示出來\n",
    "# Q2. 使用 Python 修改裡面的內容，把所有 \"，\" 換成 \"。\""
   ]
  },
  {
   "cell_type": "markdown",
   "metadata": {},
   "source": [
    "# Matplotlib\n",
    "\n",
    "文字介面看膩了嗎？我們為世界來點色彩吧~\n",
    "\n",
    "Matplotlib 是一個**專業**的資料視覺化函式庫，滿地都是範例"
   ]
  },
  {
   "cell_type": "code",
   "execution_count": 188,
   "metadata": {},
   "outputs": [],
   "source": [
    "# 第一步就是引用專業的函示庫，對吧？\n",
    "import matplotlib.pyplot as plt"
   ]
  },
  {
   "cell_type": "code",
   "execution_count": 214,
   "metadata": {},
   "outputs": [
    {
     "data": {
      "image/png": "[encoded data removed]",
      "text/plain": [
       "<Figure size 432x288 with 1 Axes>"
      ]
     },
     "metadata": {},
     "output_type": "display_data"
    }
   ],
   "source": [
    "# 折線圖 Line，起手式\n",
    "a = [1,2,6,5,2,1,8,5]\n",
    "b = [2,4,6,2,6,2,3,5]\n",
    "\n",
    "plt.plot(a)\n",
    "plt.plot(b)\n",
    "plt.show()"
   ]
  },
  {
   "cell_type": "code",
   "execution_count": 211,
   "metadata": {},
   "outputs": [
    {
     "data": {
      "image/png": "[encoded data removed]",
      "text/plain": [
       "<Figure size 432x288 with 1 Axes>"
      ]
     },
     "metadata": {},
     "output_type": "display_data"
    }
   ],
   "source": [
    "# 散佈圖 Scatter，起手式\n",
    "\n",
    "a = [[1,2], [3,2], [1,1], [3,1], [6,8]]\n",
    "\n",
    "for data in a:\n",
    "    plt.scatter(x=data[0], y=data[1])\n",
    "plt.show()"
   ]
  },
  {
   "cell_type": "code",
   "execution_count": 209,
   "metadata": {},
   "outputs": [
    {
     "data": {
      "image/png": "[encoded data removed]",
      "text/plain": [
       "<Figure size 432x288 with 1 Axes>"
      ]
     },
     "metadata": {},
     "output_type": "display_data"
    }
   ],
   "source": [
    "# 直方圖 Hist，起手式\n",
    "a = [1,1,1,1,2,2,2,5,5,5,5,9,9,9,3,3,3]\n",
    "plt.hist(a)\n",
    "plt.show()"
   ]
  },
  {
   "cell_type": "code",
   "execution_count": 212,
   "metadata": {},
   "outputs": [
    {
     "data": {
      "image/png": "[encoded data removed]",
      "text/plain": [
       "<Figure size 432x288 with 1 Axes>"
      ]
     },
     "metadata": {},
     "output_type": "display_data"
    }
   ],
   "source": [
    "# 直方圖 Bar，起手式\n",
    "a = {\"Apple\": 20, \"Banana\": 200, \"Peach\": 50, \"Monkey\": 90}\n",
    "plt.bar(a.keys(), a.values())\n",
    "plt.show()"
   ]
  },
  {
   "cell_type": "markdown",
   "metadata": {},
   "source": [
    "資料有分兩種\n",
    "1. 連續資料\n",
    "2. 不連續資料\n",
    "\n",
    "連續資料就是像年紀啦身高啦這種，有連續性的資料，就要用直方圖表達\n",
    "\n",
    "長條圖通常用來表示不連續資料，每一條長條之間沒有什麼連續、順序性\n",
    "\n",
    "Question : 我們剛剛拿到的字數統計資料，該用哪個圖?!\n",
    "\n",
    "推薦：[用數據看台灣](https://www.taiwanstat.com/realtime/)"
   ]
  },
  {
   "cell_type": "code",
   "execution_count": 259,
   "metadata": {},
   "outputs": [
    {
     "name": "stdout",
     "output_type": "stream",
     "text": [
      "['year,Tumor,Heart disease', '1986,118.3,87.4', '1987,118.9,94.3', '1988,121.1,87.3', '1989,121.7,82.2', '1990,115.3,83.9', '1991,117.8,84.1', '1992,121.9,86.4', '1993,125.5,79.8', '1994,126.9,72.6', '1995,136.4,64.7', '1996,143.5,62.2', '1997,144.3,56.8', '1998,140.5,55.4', '1999,138.3,54.5', '2000,141.6,48.8', '2001,143.1,48.8', '2002,144.2,48.5', '2003,143.1,47.9', '2004,142.8,50.1', '2005,141.2,48.3', '2006,139.3,43.8', '2007,142.6,44.4', '2008,133.7,51.7', '2009,132.5,47.7', '2010,131.6,47.4', '2011,132.2,47.9', '2012,131.3,47.9', '2013,130.4,47.7']\n"
     ]
    }
   ],
   "source": [
    "word_url = \"http://code.xeriou.tw/teach.txt\"\n",
    "response = urllib.request.urlopen(word_url)\n",
    "long_txt = response.read().decode()\n",
    "words = long_txt.splitlines()\n",
    "print(words)\n",
    "\n",
    "death = []\n",
    "for w in words:\n",
    "    if w == 'year,Tumor,Heart disease':\n",
    "        continue\n",
    "    tmp = w.split(',') #這個學好喔!!\n",
    "    tmp[1] = float(tmp[1])\n",
    "    tmp[2] = float(tmp[2])\n",
    "    death.append(tmp)\n"
   ]
  },
  {
   "cell_type": "code",
   "execution_count": 260,
   "metadata": {},
   "outputs": [
    {
     "name": "stdout",
     "output_type": "stream",
     "text": [
      "[['1986', 118.3, 87.4], ['1987', 118.9, 94.3], ['1988', 121.1, 87.3], ['1989', 121.7, 82.2], ['1990', 115.3, 83.9], ['1991', 117.8, 84.1], ['1992', 121.9, 86.4], ['1993', 125.5, 79.8], ['1994', 126.9, 72.6], ['1995', 136.4, 64.7], ['1996', 143.5, 62.2], ['1997', 144.3, 56.8], ['1998', 140.5, 55.4], ['1999', 138.3, 54.5], ['2000', 141.6, 48.8], ['2001', 143.1, 48.8], ['2002', 144.2, 48.5], ['2003', 143.1, 47.9], ['2004', 142.8, 50.1], ['2005', 141.2, 48.3], ['2006', 139.3, 43.8], ['2007', 142.6, 44.4], ['2008', 133.7, 51.7], ['2009', 132.5, 47.7], ['2010', 131.6, 47.4], ['2011', 132.2, 47.9], ['2012', 131.3, 47.9], ['2013', 130.4, 47.7]]\n"
     ]
    }
   ],
   "source": [
    "print(death)"
   ]
  },
  {
   "cell_type": "code",
   "execution_count": 261,
   "metadata": {},
   "outputs": [
    {
     "data": {
      "image/png": "[encoded data removed]",
      "text/plain": [
       "<Figure size 432x288 with 1 Axes>"
      ]
     },
     "metadata": {},
     "output_type": "display_data"
    }
   ],
   "source": [
    "# 來製作折線圖\n",
    "\n",
    "tumer_list = []\n",
    "heart_list = []\n",
    "\n",
    "for d in death:\n",
    "    tumer_list.append(d[1])\n",
    "    heart_list.append(d[2])\n",
    "\n",
    "plt.plot(tumer_list)\n",
    "plt.plot(heart_list)\n",
    "plt.show()"
   ]
  },
  {
   "cell_type": "code",
   "execution_count": 272,
   "metadata": {},
   "outputs": [
    {
     "data": {
      "image/png": "[encoded data removed]",
      "text/plain": [
       "<Figure size 432x288 with 1 Axes>"
      ]
     },
     "metadata": {},
     "output_type": "display_data"
    }
   ],
   "source": [
    "# 修改 x 軸的名稱\n",
    "\n",
    "year_list = []\n",
    "for d in death:\n",
    "    year_list.append(d[0])\n",
    "\n",
    "plt.plot(tumer_list)\n",
    "plt.plot(heart_list)\n",
    "plt.xticks(range(len(year_list)), year_list, rotation=80)\n",
    "plt.show()"
   ]
  },
  {
   "cell_type": "markdown",
   "metadata": {},
   "source": [
    "### Homework Time 3\n",
    "\n",
    "依照 Homework 1 所出的 Wordconut 作業 視覺化：\n",
    "\n",
    "1. 出現頻率的圖 (X軸是字，Y軸是數量)\n",
    "2. 為甚麼適合使用你選擇的圖？"
   ]
  },
  {
   "cell_type": "markdown",
   "metadata": {},
   "source": [
    "## Numpy\n",
    "\n",
    "Python 中，專門處理矩陣運算的函式庫"
   ]
  },
  {
   "cell_type": "code",
   "execution_count": 273,
   "metadata": {},
   "outputs": [],
   "source": [
    "# 第一步就是引用專業的函示庫，對吧？\n",
    "import numpy as np"
   ]
  },
  {
   "cell_type": "code",
   "execution_count": 284,
   "metadata": {},
   "outputs": [
    {
     "name": "stdout",
     "output_type": "stream",
     "text": [
      "[1 2 3]\n"
     ]
    }
   ],
   "source": [
    "# 看起來就跟 list 一樣對吧？\n",
    "na = np.array([1,2,3])\n",
    "print(na)"
   ]
  },
  {
   "cell_type": "code",
   "execution_count": 285,
   "metadata": {},
   "outputs": [
    {
     "name": "stdout",
     "output_type": "stream",
     "text": [
      "[-2 -1  0]\n",
      "[-10  -5   0]\n",
      "[-5.  -2.5  0. ]\n",
      "[25.    6.25  0.  ]\n"
     ]
    }
   ],
   "source": [
    "# 但 List 不能這樣做\n",
    "\n",
    "na = na - 3\n",
    "print(na)\n",
    "\n",
    "na = na * 5\n",
    "print(na)\n",
    "\n",
    "na = na / 2\n",
    "print(na)\n",
    "\n",
    "na = na * na\n",
    "print(na)"
   ]
  },
  {
   "cell_type": "code",
   "execution_count": 288,
   "metadata": {},
   "outputs": [
    {
     "name": "stdout",
     "output_type": "stream",
     "text": [
      "[10 20]\n",
      "['Alan' 'Bob']\n"
     ]
    }
   ],
   "source": [
    "# 常見用法：以成績輸入為例\n",
    "\n",
    "score_name = np.array([\"Alan\", \"Bob\", \"Cindy\"])\n",
    "score = np.array([10, 20, 30])\n",
    "\n",
    "# 尋找分數小於 30 分的 \"分數\"\n",
    "score_low = score[np.where(score < 30)]\n",
    "print(score_low)\n",
    "# 尋找分數小於 30 分的 \"分數\" 所對應的人\n",
    "score_name_low = score_name[np.where(score < 30)]\n",
    "print(score_name_low)\n"
   ]
  },
  {
   "cell_type": "markdown",
   "metadata": {},
   "source": [
    "Numpy 中的 where 十分常用！\n",
    "\n",
    "日後看到時，請多多留意\n",
    "\n",
    "以下來結合 Matplotlib 的內容，順便來練習吧"
   ]
  },
  {
   "cell_type": "code",
   "execution_count": 298,
   "metadata": {},
   "outputs": [
    {
     "name": "stdout",
     "output_type": "stream",
     "text": [
      "[1986. 1987. 1988. 1989. 1990. 1991. 1992. 1993. 1994. 1995. 1996. 1997.\n",
      " 1998. 1999. 2000. 2001. 2002. 2003. 2004. 2005. 2006. 2007. 2008. 2009.\n",
      " 2010. 2011. 2012. 2013.]\n",
      "[118.3 118.9 121.1 121.7 115.3 117.8 121.9 125.5 126.9 136.4 143.5 144.3\n",
      " 140.5 138.3 141.6 143.1 144.2 143.1 142.8 141.2 139.3 142.6 133.7 132.5\n",
      " 131.6 132.2 131.3 130.4]\n",
      "[87.4 94.3 87.3 82.2 83.9 84.1 86.4 79.8 72.6 64.7 62.2 56.8 55.4 54.5\n",
      " 48.8 48.8 48.5 47.9 50.1 48.3 43.8 44.4 51.7 47.7 47.4 47.9 47.9 47.7]\n"
     ]
    }
   ],
   "source": [
    "word_url = \"http://code.xeriou.tw/teach.txt\"\n",
    "response = urllib.request.urlopen(word_url)\n",
    "long_txt = response.read().decode()\n",
    "words = long_txt.splitlines()\n",
    "\n",
    "death_year = np.array([])\n",
    "death_tumor = np.array([])\n",
    "death_heart = np.array([])\n",
    "for w in words:\n",
    "    if w == 'year,Tumor,Heart disease':\n",
    "        continue\n",
    "    tmp = w.split(',') #這個學好喔!!\n",
    "    death_year = np.append(death_year,int(tmp[0])) #這裡我們把年份轉為 int\n",
    "    death_tumor = np.append(death_tumor,float(tmp[1]))\n",
    "    death_heart = np.append(death_heart,float(tmp[2]))\n",
    "\n",
    "print(death_year)\n",
    "print(death_tumor)\n",
    "print(death_heart)"
   ]
  },
  {
   "cell_type": "code",
   "execution_count": 302,
   "metadata": {},
   "outputs": [
    {
     "data": {
      "image/png": "[encoded data removed]",
      "text/plain": [
       "<Figure size 432x288 with 1 Axes>"
      ]
     },
     "metadata": {},
     "output_type": "display_data"
    }
   ],
   "source": [
    "plt.plot(death_tumor)\n",
    "plt.plot(death_heart)\n",
    "plt.xticks(range(death_year.shape[0]), death_year.astype(np.int), rotation=80)\n",
    "plt.show()"
   ]
  },
  {
   "cell_type": "code",
   "execution_count": 305,
   "metadata": {},
   "outputs": [
    {
     "data": {
      "image/png": "[encoded data removed]",
      "text/plain": [
       "<Figure size 432x288 with 1 Axes>"
      ]
     },
     "metadata": {},
     "output_type": "display_data"
    }
   ],
   "source": [
    "# Show 出 2000 年後的數據\n",
    "\n",
    "plt.plot(death_tumor[np.where(death_year>=2000)])\n",
    "plt.plot(death_heart[np.where(death_year>=2000)])\n",
    "plt.xticks(range(death_year[np.where(death_year>=2000)].shape[0]), death_year[np.where(death_year>=2000)].astype(np.int), rotation=80)\n",
    "plt.show()"
   ]
  },
  {
   "cell_type": "code",
   "execution_count": 310,
   "metadata": {},
   "outputs": [
    {
     "name": "stdout",
     "output_type": "stream",
     "text": [
      "1\n",
      "4\n",
      "A 1\n",
      "B 4\n"
     ]
    }
   ],
   "source": [
    "#Playground 體會一下?\n",
    "\n",
    "a = np.array([\"A\", \"B\", \"C\", \"D\"])\n",
    "b = np.array([1,4,3,2])\n",
    "\n",
    "# min, max\n",
    "print(b.min())\n",
    "print(b.max())\n",
    "\n",
    "# argmin, argmax\n",
    "print(a[b.argmin()], b.min())\n",
    "print(a[b.argmax()], b.max())"
   ]
  },
  {
   "cell_type": "markdown",
   "metadata": {},
   "source": [
    "### Finial Homework \\@w@/\n",
    "\n",
    "使用 Numpy 實現\n",
    "\n",
    "1. 統計內文使用幾個字\n",
    "2. 每個字的使用頻率\n",
    "3. 出現最多的字是甚麼\n",
    "4. 標點符號的使用量\n"
   ]
  }
 ],
 "metadata": {
  "kernelspec": {
   "display_name": "Python 3",
   "language": "python",
   "name": "python3"
  },
  "language_info": {
   "codemirror_mode": {
    "name": "ipython",
    "version": 3
   },
   "file_extension": ".py",
   "mimetype": "text/x-python",
   "name": "python",
   "nbconvert_exporter": "python",
   "pygments_lexer": "ipython3",
   "version": "3.6.6"
  }
 },
 "nbformat": 4,
 "nbformat_minor": 2
}
